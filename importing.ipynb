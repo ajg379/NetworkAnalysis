{
 "cells": [
  {
   "cell_type": "code",
   "execution_count": null,
   "metadata": {
    "collapsed": true
   },
   "outputs": [],
   "source": [
    "from blockchain import blockexplorer\n",
    "from os.path import exists\n",
    "import networkx as nx\n",
    "import sys\n",
    "import pickle\n",
    "import csv\n",
    "import time\n",
    "import random"
   ]
  },
  {
   "cell_type": "markdown",
   "metadata": {},
   "source": [
    "## If something happened and importing got interrupted, it will look for previous log files and import them and pick up where it left off.  If not, the hash of the block you want to start at is needed"
   ]
  },
  {
   "cell_type": "code",
   "execution_count": null,
   "metadata": {
    "collapsed": true
   },
   "outputs": [],
   "source": [
    "#latestBlockHash = blockexplorer.get_latest_block().hash\n",
    "#command = sys.argv[1]\n",
    "#value = sys.argv[2]\n",
    "command = \"hash\"\n",
    "value = \"0000000000000000003202a770a5ba275e759b998378e4375827d67aa150f343\"\n",
    "\n",
    "# If there are year files we want to inport for a certain year.\n",
    "if command.lower() == \"file\":\n",
    "\n",
    "\tgraphFileName = \"graph\" + value + \".csv\"\n",
    "\tif exists(graphFileName):\n",
    "\t\tcsvfile = open(graphFileName, \"a\")\n",
    "\telse:\n",
    "\t\tcsvfile = open(graphFileName, \"w\")\n",
    "\n",
    "\tlogFileName = \"log\" + value + \".txt\"\n",
    "\tif exists(logFileName):\n",
    "\t\tblockFile = open(logFileName, \"a\")\n",
    "\telse:\n",
    "\t\tblockFile = open(logFileName, \"w\")\n",
    "\n",
    "\tlatestBlockFile = \"lastBlock\" + value + \".txt\"\n",
    "\tif exists(latestBlockFile):\n",
    "\t\twith open(latestBlockFile, \"r\") as latestSampledBlock:\n",
    "\t\t\tlatestSampledBlockHash = latestSampledBlock.readline()\n",
    "\t\t\tcurrentBlock = blockexplorer.get_block(latestSampledBlockHash)\n",
    "\telse:\n",
    "\t\tsys.exit()\n",
    "\n",
    "\tstopTime = 1514684892055\n",
    "\tyear = int(value)\n",
    "\tstopTime = stopTime - ((2018 - year) * 31536000000)\n",
    "\tstopTime = str(stopTime)\n",
    "\tstopTime = stopTime[:-3]\n",
    "\tstopTime = int(stopTime)\n",
    "\n",
    "\n",
    "# If there is a block we want to start at\n",
    "elif command.lower() == \"hash\":\n",
    "\tcurrentBlock = blockexplorer.get_block(value)\n",
    "\tblockFile = open(\"log.txt\", \"w\")\n",
    "\tcsvfile = open(\"graph.csv\", \"w\")\n",
    "\tlatestSampledBlockHash = open(\"lastBlock.txt\", \"w\")\n",
    "\tstopTime = 0"
   ]
  },
  {
   "cell_type": "markdown",
   "metadata": {},
   "source": [
    "### Will continue to import and sample the blockchain until it reaches the start of the year."
   ]
  },
  {
   "cell_type": "code",
   "execution_count": null,
   "metadata": {
    "collapsed": true
   },
   "outputs": [],
   "source": [
    "running = True\n",
    "numberOfBlocks = 0\n",
    "writer = csv.writer(csvfile, delimiter = ',')\n",
    "\n",
    "while running:\n",
    "\n",
    "    print(\"Block Hash: \", currentBlock.hash)\n",
    "\tprint(\"Block time: \", currentBlock.time)\n",
    "\tblockFile.write(currentBlock.hash)\n",
    "\tblockFile.write(\"\\n\")\n",
    "\n",
    "\twith open(latestBlockFile, \"w\") as latestSampledBlock:\n",
    "\t\tlatestSampledBlock.write(currentBlock.hash)\n",
    "\n",
    "\ttransactions = currentBlock.transactions\n",
    "\n",
    "\tif(transactions[0].time < stopTime):\n",
    "\t\trunning = False\n",
    "\n",
    "\ttransactionCounter = 0\n",
    "\tfor transaction in transactions:\n",
    "\t\tblockFile.write(\"  \")\n",
    "\t\tblockFile.write(transaction.hash)\n",
    "\t\tblockFile.write(\"\\n\")\n",
    "\n",
    "\t\tinputs = transaction.inputs\n",
    "\t\toutputs = transaction.outputs\n",
    "\n",
    "\t\tisBlind = False\n",
    "\t\t# If the transactions has no input is is blind addition\n",
    "\t\tif not hasattr(inputs[0], 'address'):\n",
    "\t\t\tisBlind = True\n",
    "\n",
    "\t\taverageWithdraw = 0\n",
    "\t\tfor out in outputs:\n",
    "\t\t\taverageWithdraw = averageWithdraw + out.value\n",
    "\n",
    "\t\taverageWithdraw = averageWithdraw / len(inputs) if not isBlind else averageWithdraw\n",
    "\t\taverageWithdraw = averageWithdraw / len(outputs) \n",
    "\n",
    "\t\t# Decide whether or not we should keep goind.\n",
    "\t\t#if graphIndex < 0 or graphIndex > 0:\n",
    "\t\t#\trunning = False\n",
    "\n",
    "\n",
    "\t\tif isBlind:\n",
    "\t\t\tfor output in outputs:\n",
    "\t\t\t\tif(output.address is not None):\n",
    "\t\t\t\t\twriter.writerow([output.address, output.address, int(averageWithdraw)])\n",
    "\t\telse:\n",
    "\t\t\tinputOdds = 1 / (2 * len(inputs))\n",
    "\t\t\toutputOdds = 1 / (2 * len(outputs)) \n",
    "\t\t\tfor input_ in inputs:\n",
    "\t\t\t\tif random.random() < inputOdds:\n",
    "\t\t\t\t\tfor output in outputs:\n",
    "\t\t\t\t\t\tif random.random() < outputOdds:\n",
    "\t\t\t\t\t\t\tif hasattr(input,_ \"address\") and input_.address != output.address and input_.address is not None and output.address is not None:\n",
    "\t\t\t\t\t\t\t\twriter.writerow([input_.address, output.address])\n",
    "\t\t\t\t\t\t\t\tblockFile.write(\"    \")\n",
    "\t\t\t\t\t\t\t\tblockFile.write(input_.address)\n",
    "\t\t\t\t\t\t\t\tblockFile.write(\"->\")\n",
    "\t\t\t\t\t\t\t\tblockFile.write(output.address)\n",
    "\t\t\t\t\t\t\t\tblockFile.write(\"\\n\")\n",
    "\n",
    "\t\ttransactionCounter = transactionCounter + 1\n",
    "\tnumberOfBlocks = numberOfBlocks + 1\n",
    "\t\n",
    "\n",
    "\tprint(\"\\tTransactions: \", transactionCounter)\n",
    "\tfound = False\n",
    "\twhile not found:\n",
    "\t\ttry:\n",
    "\t\t\tcurrentBlock = blockexplorer.get_block(currentBlock.previous_block)\n",
    "\t\t\tfound = True\n",
    "\t\texcept:\n",
    "\t\t\tprint(\"Sleeping...\")\n",
    "\t\t\ttime.sleep(10)"
   ]
  }
 ],
 "metadata": {
  "kernelspec": {
   "display_name": "Python 3",
   "language": "python",
   "name": "python3"
  },
  "language_info": {
   "codemirror_mode": {
    "name": "ipython",
    "version": 3
   },
   "file_extension": ".py",
   "mimetype": "text/x-python",
   "name": "python",
   "nbconvert_exporter": "python",
   "pygments_lexer": "ipython3",
   "version": "3.4.3"
  }
 },
 "nbformat": 4,
 "nbformat_minor": 0
}
